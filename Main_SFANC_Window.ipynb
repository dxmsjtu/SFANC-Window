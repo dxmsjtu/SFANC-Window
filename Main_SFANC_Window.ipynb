{
 "cells": [
  {
   "cell_type": "code",
   "execution_count": 8,
   "id": "10d793cb",
   "metadata": {},
   "outputs": [
    {
     "ename": "ModuleNotFoundError",
     "evalue": "No module named 'pyaudio'",
     "output_type": "error",
     "traceback": [
      "\u001b[0;31m---------------------------------------------------------------------------\u001b[0m",
      "\u001b[0;31mModuleNotFoundError\u001b[0m                       Traceback (most recent call last)",
      "Cell \u001b[0;32mIn[8], line 4\u001b[0m\n\u001b[1;32m      1\u001b[0m \u001b[38;5;66;03m# Refer to the paper 'Real-time implementation and explainable AI analysis of delayless CNN-based selective fixed-filter active noise control'\u001b[39;00m\n\u001b[1;32m      2\u001b[0m \u001b[38;5;66;03m# Before running the code, you need to have a computer microphone and real-time controller.\u001b[39;00m\n\u001b[0;32m----> 4\u001b[0m \u001b[38;5;28;01mfrom\u001b[39;00m \u001b[38;5;21;01mAcquired_sound\u001b[39;00m \u001b[38;5;28;01mimport\u001b[39;00m AudioRecorder\n\u001b[1;32m      5\u001b[0m \u001b[38;5;28;01mfrom\u001b[39;00m \u001b[38;5;21;01mUDP_pxie_connector\u001b[39;00m \u001b[38;5;28;01mimport\u001b[39;00m UDP_sender\n\u001b[1;32m      7\u001b[0m \u001b[38;5;28;01mimport\u001b[39;00m \u001b[38;5;21;01mwarnings\u001b[39;00m\n",
      "File \u001b[0;32m~/jiliao/各种研究方向文献/声音信号处理相关盲分离/代码/SFANC-Window/Acquired_sound.py:1\u001b[0m\n\u001b[0;32m----> 1\u001b[0m \u001b[38;5;28;01mimport\u001b[39;00m \u001b[38;5;21;01mpyaudio\u001b[39;00m\n\u001b[1;32m      2\u001b[0m \u001b[38;5;28;01mimport\u001b[39;00m \u001b[38;5;21;01mwave\u001b[39;00m\n\u001b[1;32m      3\u001b[0m \u001b[38;5;28;01mimport\u001b[39;00m \u001b[38;5;21;01mmath\u001b[39;00m\n",
      "\u001b[0;31mModuleNotFoundError\u001b[0m: No module named 'pyaudio'"
     ]
    }
   ],
   "source": [
    "# Refer to the paper 'Real-time implementation and explainable AI analysis of delayless CNN-based selective fixed-filter active noise control'\n",
    "# Before running the code, you need to have a computer microphone and real-time controller.\n",
    "\n",
    "from Acquired_sound import AudioRecorder\n",
    "from UDP_pxie_connector import UDP_sender\n",
    " \n",
    "import warnings\n",
    "warnings.filterwarnings(\"ignore\")\n",
    "\n",
    "\n",
    "ID1 = 0 # initial ID\n",
    "# Pass ID to PXIE (real-time controller)\n",
    "Ipaddress = \"192.168.1.103\" # !!! PXIE IP\n",
    "Port = 61557  # !!! PXIE Port\n",
    "UDP_connection = UDP_sender(Ipaddress, Port)\n",
    "UDP_connection.send_message(text=str(ID1))\n",
    "print(\"The ID of initial control filter is:\", ID1)\n",
    "\n",
    "\n",
    "while True:\n",
    "    recorder = AudioRecorder(seconds=1)\n",
    "    ID = recorder.record(\"output.wav\")\n",
    "    \n",
    "    if ID != ID1: # If the filter index changes, pass it to PIXE\n",
    "        ID1 = ID\n",
    "        print(\"The ID of selected control filter is:\", ID1)\n",
    "        UDP_connection.send_message(text=str(ID1))"
   ]
  }
 ],
 "metadata": {
  "kernelspec": {
   "display_name": "Python 3 (ipykernel)",
   "language": "python",
   "name": "python3"
  },
  "language_info": {
   "codemirror_mode": {
    "name": "ipython",
    "version": 3
   },
   "file_extension": ".py",
   "mimetype": "text/x-python",
   "name": "python",
   "nbconvert_exporter": "python",
   "pygments_lexer": "ipython3",
   "version": "3.10.9"
  }
 },
 "nbformat": 4,
 "nbformat_minor": 5
}
